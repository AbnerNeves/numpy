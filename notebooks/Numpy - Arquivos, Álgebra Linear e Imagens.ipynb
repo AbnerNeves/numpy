{
 "cells": [
  {
   "cell_type": "markdown",
   "metadata": {},
   "source": [
    "# Numpy - Arquivos, Álgebra Linear e Imagens\n",
    "\n",
    "**Disciplina**: Programação para Ciência dos Dados  \n",
    "**Docentes**: Elloá B. Guedes e Tiago E. de Melo  \n",
    "**Contato:** ebgcosta@uea.edu.br, tmelo@uea.edu.br  \n",
    "**Github:** http://github.com/elloa/numpy\n",
    "\n",
    "## Apresentação\n",
    "\n",
    "Este notebook deverá ser utilizado para a prática dos conceitos relativos à biblioteca numpy."
   ]
  },
  {
   "cell_type": "code",
   "execution_count": null,
   "metadata": {},
   "outputs": [],
   "source": [
    "# Reservado para bibliotecas\n"
   ]
  },
  {
   "cell_type": "markdown",
   "metadata": {},
   "source": [
    "## Parte 4.1 - Abrindo uma imagem com o matplotlib\n",
    "\n",
    "1. Abra a imagem 'onca.jpg' disponível no diretório ../data    \n",
    "   1.1 Esta fotografia é de autoria de Araquém Alcântara  \n",
    "   1.2 Vamos utilizar dois subpacotes do matplotlib:\n",
    "   \n",
    "   ```python\n",
    "    import matplotlib.pyplot as plt  \n",
    "    import matplotlib.image as mpimg\n",
    "    \n",
    "    img = mpimg.imread('<caminho_da_imagem>')\n",
    "    print(img)\n",
    "   ```\n",
    "   - Documentação: https://matplotlib.org/api/_as_gen/matplotlib.pyplot.imshow.html#matplotlib.pyplot.imshow  \n",
    "   - Documentação: https://matplotlib.org/3.3.1/api/image_api.html  \n",
    "2. Exiba a imagem como fotografia e como um ndarray\n",
    "3. Imprima o shape da imagem e o número de dimensões (rank)"
   ]
  },
  {
   "cell_type": "code",
   "execution_count": null,
   "metadata": {},
   "outputs": [],
   "source": []
  },
  {
   "cell_type": "code",
   "execution_count": null,
   "metadata": {},
   "outputs": [],
   "source": []
  },
  {
   "cell_type": "code",
   "execution_count": null,
   "metadata": {},
   "outputs": [],
   "source": []
  },
  {
   "cell_type": "code",
   "execution_count": null,
   "metadata": {},
   "outputs": [],
   "source": []
  },
  {
   "cell_type": "code",
   "execution_count": null,
   "metadata": {},
   "outputs": [],
   "source": []
  },
  {
   "cell_type": "markdown",
   "metadata": {},
   "source": [
    "## Parte 4.2 - Extraindo os canais R-G-B\n",
    "\n",
    "1. A imagem é representada por uma matriz tridimensional de dimensões 640x480x3.   \n",
    "  1.1 Considerando o formato RGB, esta pode ser interpretada como mostra a imagem a seguir  \n",
    "  1.2 Abordagem channels last\n",
    "\n",
    "\n",
    "<img src=\"../img/three_d_array.png\" height=300 width=300>\n",
    "\n",
    "2. Extraia cada um dos canais e imprima-os como uma imagem  \n",
    "  2.1 Para visualizar nos tons dos canais, preencha as demais dimensões com zeros\n",
    "3. Armazene o array do canal vermelho em um arquivo na pasta ../data  \n",
    "  3.1 Salve o arquivo como red.npy, utilizando o formato binário  \n",
    "  3.2 https://numpy.org/doc/stable/reference/generated/numpy.save.html  \n",
    "  3.3 Recupere-o do arquivo e compare-o com a versão em memória"
   ]
  },
  {
   "cell_type": "code",
   "execution_count": null,
   "metadata": {},
   "outputs": [],
   "source": []
  },
  {
   "cell_type": "code",
   "execution_count": null,
   "metadata": {},
   "outputs": [],
   "source": []
  },
  {
   "cell_type": "code",
   "execution_count": null,
   "metadata": {},
   "outputs": [],
   "source": []
  },
  {
   "cell_type": "code",
   "execution_count": null,
   "metadata": {},
   "outputs": [],
   "source": []
  },
  {
   "cell_type": "code",
   "execution_count": null,
   "metadata": {},
   "outputs": [],
   "source": []
  },
  {
   "cell_type": "code",
   "execution_count": null,
   "metadata": {},
   "outputs": [],
   "source": []
  },
  {
   "cell_type": "code",
   "execution_count": null,
   "metadata": {},
   "outputs": [],
   "source": []
  },
  {
   "cell_type": "code",
   "execution_count": null,
   "metadata": {},
   "outputs": [],
   "source": []
  },
  {
   "cell_type": "code",
   "execution_count": null,
   "metadata": {},
   "outputs": [],
   "source": []
  },
  {
   "cell_type": "code",
   "execution_count": null,
   "metadata": {},
   "outputs": [],
   "source": []
  },
  {
   "cell_type": "code",
   "execution_count": null,
   "metadata": {},
   "outputs": [],
   "source": []
  },
  {
   "cell_type": "markdown",
   "metadata": {},
   "source": [
    "## Parte 4.3 - Convertendo para Tons de Cinza\n",
    "\n",
    "De acordo com a Teoria da Colorimetria, uma maneira de obter uma representação em tons de cinza de uma imagem é por meio da seguinte operação, em que Y é a nova imagem resultante\n",
    "\n",
    "\n",
    "$$Y = 0.2126 R + 0.7152 G + 0.0722 B$$\n",
    "\n",
    "1. A transformação em questão é análoga à multiplicação matricial a seguir:\n",
    "\n",
    "$$ nova = imagem \\times [0.2126, 0.7152, 0.0722]$$\n",
    "\n",
    "2. Para fazer uso de broadcasting, considere a utilização de np.matmul:  \n",
    "   https://numpy.org/doc/stable/reference/generated/numpy.matmul.html#numpy.matmul\n",
    "   \n",
    "3. Ao imprimir, utilize o cmap = \"grey\"\n",
    "4. Salve a imagem em tons de cinza (oncacinza) na pasta ../data\n",
    "```python\n",
    "import imageio\n",
    "imageio.imwrite('<caminho+nomedoarquivo>.jpg', nova)\n",
    "```"
   ]
  },
  {
   "cell_type": "code",
   "execution_count": null,
   "metadata": {},
   "outputs": [],
   "source": []
  },
  {
   "cell_type": "code",
   "execution_count": null,
   "metadata": {},
   "outputs": [],
   "source": []
  },
  {
   "cell_type": "code",
   "execution_count": null,
   "metadata": {},
   "outputs": [],
   "source": []
  },
  {
   "cell_type": "code",
   "execution_count": null,
   "metadata": {},
   "outputs": [],
   "source": []
  },
  {
   "cell_type": "code",
   "execution_count": null,
   "metadata": {},
   "outputs": [],
   "source": []
  },
  {
   "cell_type": "markdown",
   "metadata": {},
   "source": [
    "## Parte 4.4 - Convertendo para Tons de Cinza de Maneira \"Numpytônica\"\n",
    "\n",
    "De acordo com a Teoria da Colorimetria, uma maneira de obter uma representação em tons de cinza de uma imagem é por meio da seguinte operação, em que Y é a nova imagem resultante\n",
    "\n",
    "\n",
    "$$Y = 0.2126 R + 0.7152 G + 0.0722 B$$\n",
    "\n",
    "A multiplicação de matriz no numpy é feita de maneira direta, como segue:\n",
    "\n",
    "$$ nova = imagem @ [0.2126, 0.7152, 0.0722]$$\n",
    "\n"
   ]
  },
  {
   "cell_type": "code",
   "execution_count": null,
   "metadata": {},
   "outputs": [],
   "source": []
  },
  {
   "cell_type": "code",
   "execution_count": null,
   "metadata": {},
   "outputs": [],
   "source": []
  }
 ],
 "metadata": {
  "kernelspec": {
   "display_name": "Python 3",
   "language": "python",
   "name": "python3"
  },
  "language_info": {
   "codemirror_mode": {
    "name": "ipython",
    "version": 3
   },
   "file_extension": ".py",
   "mimetype": "text/x-python",
   "name": "python",
   "nbconvert_exporter": "python",
   "pygments_lexer": "ipython3",
   "version": "3.8.3"
  }
 },
 "nbformat": 4,
 "nbformat_minor": 4
}
