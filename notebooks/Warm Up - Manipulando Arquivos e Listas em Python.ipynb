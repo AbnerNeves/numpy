{
 "cells": [
  {
   "cell_type": "markdown",
   "metadata": {},
   "source": [
    "# Warm Up - Manipulando Arquivos e Listas com Python\n",
    "\n",
    "**Disciplina**: Programação para Ciência dos Dados  \n",
    "**Docentes**: Elloá B. Guedes e Tiago E. de Melo  \n",
    "**Contato:** ebgcosta@uea.edu.br, tmelo@uea.edu.br  \n",
    "**Github:** http://github.com/elloa/numpy\n",
    "\n",
    "## Apresentação\n",
    "\n",
    "Para consolidar o aprendizado da manipulação de arquivos e listas com Python, vamos realizar a atividade prática a seguir, a qual consiste em descobrir informações a respeito dos últimos sorteios da Mega-Sena. Você deve abrir o arquivo que encontra-se no diretorio '../data' intitulado _megasena.txt_. Este arquivo texto contém todos os sorteios da Mega-Sena, em que cada linha contém as seis dezenas correspondentes a um sorteio, separadas por um espaço.\n",
    "\n",
    "## Referências\n",
    "\n",
    "1. Fonte de dados: https://asloterias.com.br/download-todos-resultados-mega-sena"
   ]
  },
  {
   "cell_type": "code",
   "execution_count": 2,
   "metadata": {},
   "outputs": [],
   "source": [
    "## Reservado para importação de bibliotecas, se for o caso\n",
    "import os\n",
    "import string"
   ]
  },
  {
   "cell_type": "markdown",
   "metadata": {},
   "source": [
    "### Passo 1 - Abrir o arquivo e organizar as informações em uma lista\n",
    "\n",
    "1. Abra o arquivo indicado no enunciado do exercício\n",
    "2. Itere pelas linhas do arquivo e:  \n",
    "    2.1 Obtenha as dezenas sob a forma de inteiros  \n",
    "    2.2 Armazene cada sorteio em uma lista  \n",
    "3. Crie uma lista que contém todos os sorteios"
   ]
  },
  {
   "cell_type": "code",
   "execution_count": 4,
   "metadata": {
    "tags": []
   },
   "outputs": [],
   "source": [
    "lista_total = []\n",
    "try:\n",
    "    with open(\"..\"+os.sep+\"data\"+os.sep+\"megasena.txt\", mode=\"rt\") as leitura:\n",
    "        for linha in leitura:\n",
    "            lista_total.append([int(num) for num in linha.split()])\n",
    "except:\n",
    "    print(\"Erro !\")\n"
   ]
  },
  {
   "cell_type": "code",
   "execution_count": 6,
   "metadata": {
    "tags": []
   },
   "outputs": [
    {
     "output_type": "stream",
     "name": "stdout",
     "text": "[[12, 54, 57, 21, 29, 56], [17, 50, 48, 20, 3, 7], [44, 43, 25, 18, 27, 22], [18, 36, 47, 52, 35, 17], [37, 39, 21, 9, 54, 43], [3, 40, 19, 60, 2, 44], [13, 21, 49, 41, 17, 31], [20, 22, 41, 59, 35, 40], [29, 6, 36, 59, 21, 1], [28, 6, 41, 26, 35, 13]]\n"
    }
   ],
   "source": [
    "print(lista_total[0:10])"
   ]
  },
  {
   "cell_type": "markdown",
   "metadata": {},
   "source": [
    "### Passo 2 - Sobre os Sorteios\n",
    "\n",
    "1. Quantos sorteios foram realizados até a presente data?\n",
    "2. Quantas vezes cada dezena foi sorteada?\n",
    "  - Dica: Use um dicionário!\n",
    "3. Quantas vezes o número 51 foi sorteado?\n",
    "4. Quantas vezes números no intervalo [1,10] foram sorteados?\n",
    "5. Qual a dezena mais sorteada?  \n",
    "6. Qual a dezena menos sorteada?  "
   ]
  },
  {
   "cell_type": "code",
   "execution_count": 7,
   "metadata": {
    "tags": []
   },
   "outputs": [
    {
     "output_type": "stream",
     "name": "stdout",
     "text": "Foram realizados um total de 2304 sorteios\n"
    }
   ],
   "source": [
    "# 2.1\n",
    "total_sorteios = len(lista_total)\n",
    "print(f\"Foram realizados um total de {total_sorteios} sorteios\")"
   ]
  },
  {
   "cell_type": "code",
   "execution_count": 18,
   "metadata": {},
   "outputs": [],
   "source": [
    "dezenas = [(x,0) for x in range(1,61)]\n",
    "dezenas = dict(dezenas)\n"
   ]
  },
  {
   "cell_type": "code",
   "execution_count": 29,
   "metadata": {},
   "outputs": [
    {
     "output_type": "execute_result",
     "data": {
      "text/plain": "{1: 690,\n 2: 705,\n 3: 621,\n 4: 753,\n 5: 765,\n 6: 711,\n 7: 657,\n 8: 690,\n 9: 633,\n 10: 789,\n 11: 702,\n 12: 684,\n 13: 702,\n 14: 657,\n 15: 618,\n 16: 711,\n 17: 717,\n 18: 702,\n 19: 648,\n 20: 666,\n 21: 609,\n 22: 603,\n 23: 762,\n 24: 735,\n 25: 639,\n 26: 570,\n 27: 741,\n 28: 726,\n 29: 711,\n 30: 726,\n 31: 654,\n 32: 705,\n 33: 753,\n 34: 726,\n 35: 708,\n 36: 717,\n 37: 744,\n 38: 696,\n 39: 648,\n 40: 669,\n 41: 714,\n 42: 744,\n 43: 723,\n 44: 717,\n 45: 675,\n 46: 681,\n 47: 669,\n 48: 627,\n 49: 690,\n 50: 696,\n 51: 717,\n 52: 705,\n 53: 783,\n 54: 738,\n 55: 582,\n 56: 711,\n 57: 651,\n 58: 678,\n 59: 678,\n 60: 630}"
     },
     "metadata": {},
     "execution_count": 29
    }
   ],
   "source": [
    "# 2 - Quantas vezes cada dezena foi sorteada ?\n",
    "for item in lista_total:\n",
    "    for dezena in item:\n",
    "        dezenas.update({dezena : dezenas.get(dezena) + 1})\n",
    "dezenas"
   ]
  },
  {
   "cell_type": "code",
   "execution_count": 33,
   "metadata": {
    "tags": []
   },
   "outputs": [
    {
     "output_type": "stream",
     "name": "stdout",
     "text": "O numero 51 foi sorteado 717 vezes\n"
    }
   ],
   "source": [
    "# 2.3 Quantas vezes o número 51 foi sorteado\n",
    "# vezes_51 = 0\n",
    "# for item in lista_total:\n",
    "#     vezes_51 += item.count(51)\n",
    "print(f\"O numero 51 foi sorteado {dezenas.get(51)} vezes\")"
   ]
  },
  {
   "cell_type": "code",
   "execution_count": 32,
   "metadata": {},
   "outputs": [
    {
     "output_type": "execute_result",
     "data": {
      "text/plain": "dict_items([(1, 690), (2, 705), (3, 621), (4, 753), (5, 765), (6, 711), (7, 657), (8, 690), (9, 633), (10, 789), (11, 702), (12, 684), (13, 702), (14, 657), (15, 618), (16, 711), (17, 717), (18, 702), (19, 648), (20, 666), (21, 609), (22, 603), (23, 762), (24, 735), (25, 639), (26, 570), (27, 741), (28, 726), (29, 711), (30, 726), (31, 654), (32, 705), (33, 753), (34, 726), (35, 708), (36, 717), (37, 744), (38, 696), (39, 648), (40, 669), (41, 714), (42, 744), (43, 723), (44, 717), (45, 675), (46, 681), (47, 669), (48, 627), (49, 690), (50, 696), (51, 717), (52, 705), (53, 783), (54, 738), (55, 582), (56, 711), (57, 651), (58, 678), (59, 678), (60, 630)])"
     },
     "metadata": {},
     "execution_count": 32
    }
   ],
   "source": [
    "# 5 - Qual a dezena mais sorteada\n",
    "dezenas.items()"
   ]
  },
  {
   "cell_type": "code",
   "execution_count": null,
   "metadata": {},
   "outputs": [],
   "source": [
    "# 6 - Qual a dezena menos sorteada"
   ]
  },
  {
   "cell_type": "markdown",
   "metadata": {},
   "source": [
    "### Passo 3 - Um pouco de Matemática!\n",
    "\n",
    "1. Usando Python, calcule a probabilidade de alguém acertar a mega-sena\n",
    "2. Qual a sena mais provável? Tome como base as seis dezenas mais frequentes nos sorteios anteriores\n",
    "3. Qual a dezena média?  \n",
    "   3.1 O resultado é compatível com a Lei dos Grandes Números?"
   ]
  },
  {
   "cell_type": "code",
   "execution_count": null,
   "metadata": {},
   "outputs": [],
   "source": []
  },
  {
   "cell_type": "code",
   "execution_count": null,
   "metadata": {},
   "outputs": [],
   "source": []
  },
  {
   "cell_type": "code",
   "execution_count": null,
   "metadata": {},
   "outputs": [],
   "source": []
  },
  {
   "cell_type": "markdown",
   "metadata": {},
   "source": [
    "### Passo 4 - Brincando com a curiosidade\n",
    "\n",
    "1. Já houve algum sorteio exatamente igual a outro? Isto é, com as mesmas dezenas na mesma ordem?\n",
    "2. Já houve dois sorteios iguais no tocante às dezenas sorteadas?"
   ]
  },
  {
   "cell_type": "code",
   "execution_count": null,
   "metadata": {},
   "outputs": [],
   "source": []
  },
  {
   "cell_type": "code",
   "execution_count": null,
   "metadata": {},
   "outputs": [],
   "source": []
  },
  {
   "cell_type": "code",
   "execution_count": null,
   "metadata": {},
   "outputs": [],
   "source": []
  },
  {
   "cell_type": "markdown",
   "metadata": {},
   "source": [
    "### Passo 5 - Plotando um gráfico!\n",
    "\n",
    "1. Construa um gráfico do tipo histograma que ilustre o número de vezes que cada dezena foi\n",
    "sorteada"
   ]
  },
  {
   "cell_type": "code",
   "execution_count": null,
   "metadata": {},
   "outputs": [],
   "source": []
  },
  {
   "cell_type": "code",
   "execution_count": null,
   "metadata": {},
   "outputs": [],
   "source": []
  }
 ],
 "metadata": {
  "kernelspec": {
   "display_name": "Python 3",
   "language": "python",
   "name": "python3"
  },
  "language_info": {
   "codemirror_mode": {
    "name": "ipython",
    "version": 3
   },
   "file_extension": ".py",
   "mimetype": "text/x-python",
   "name": "python",
   "nbconvert_exporter": "python",
   "pygments_lexer": "ipython3",
   "version": "3.8.3-final"
  }
 },
 "nbformat": 4,
 "nbformat_minor": 4
}