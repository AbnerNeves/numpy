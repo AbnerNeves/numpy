{
 "cells": [
  {
   "cell_type": "markdown",
   "metadata": {},
   "source": [
    "# Warm Up - Manipulando Arquivos e Listas com Python\n",
    "\n",
    "**Disciplina**: Programação para Ciência dos Dados  \n",
    "**Docentes**: Elloá B. Guedes e Tiago E. de Melo  \n",
    "**Contato:** ebgcosta@uea.edu.br, tmelo@uea.edu.br  \n",
    "**Github:** http://github.com/elloa/numpy\n",
    "\n",
    "## Apresentação\n",
    "\n",
    "Para consolidar o aprendizado da manipulação de arquivos e listas com Python, vamos realizar a atividade prática a seguir, a qual consiste em descobrir informações a respeito dos últimos sorteios da Mega-Sena. Você deve abrir o arquivo que encontra-se no diretorio '../data' intitulado _megasena.txt_. Este arquivo texto contém todos os sorteios da Mega-Sena, em que cada linha contém as seis dezenas correspondentes a um sorteio, separadas por um espaço.\n",
    "\n",
    "## Referências\n",
    "\n",
    "1. Fonte de dados: https://asloterias.com.br/download-todos-resultados-mega-sena"
   ]
  },
  {
   "cell_type": "code",
   "execution_count": null,
   "metadata": {},
   "outputs": [],
   "source": [
    "## Reservado para importação de bibliotecas, se for o caso\n",
    "\n"
   ]
  },
  {
   "cell_type": "markdown",
   "metadata": {},
   "source": [
    "### Passo 1 - Abrir o arquivo e organizar as informações em uma lista\n",
    "\n",
    "1. Abra o arquivo indicado no enunciado do exercício\n",
    "2. Itere pelas linhas do arquivo e:  \n",
    "    2.1 Obtenha as dezenas sob a forma de inteiros  \n",
    "    2.2 Armazene cada sorteio em uma lista  \n",
    "3. Crie uma lista que contém todos os sorteios"
   ]
  },
  {
   "cell_type": "code",
   "execution_count": null,
   "metadata": {},
   "outputs": [],
   "source": []
  },
  {
   "cell_type": "code",
   "execution_count": null,
   "metadata": {},
   "outputs": [],
   "source": []
  },
  {
   "cell_type": "markdown",
   "metadata": {},
   "source": [
    "### Passo 2 - Sobre os Sorteios\n",
    "\n",
    "1. Quantos sorteios foram realizados até a presente data?\n",
    "2. Quantas vezes cada dezena foi sorteada?\n",
    "  - Dica: Use um dicionário!\n",
    "3. Quantas vezes o número 51 foi sorteado?\n",
    "4. Quantas vezes números no intervalo [1,10] foram sorteados?\n",
    "5. Qual a dezena mais sorteada?  \n",
    "6. Qual a dezena menos sorteada?  "
   ]
  },
  {
   "cell_type": "code",
   "execution_count": null,
   "metadata": {},
   "outputs": [],
   "source": []
  },
  {
   "cell_type": "code",
   "execution_count": null,
   "metadata": {},
   "outputs": [],
   "source": []
  },
  {
   "cell_type": "markdown",
   "metadata": {},
   "source": [
    "### Passo 3 - Um pouco de Matemática!\n",
    "\n",
    "1. Usando Python, calcule a probabilidade de alguém acertar a mega-sena\n",
    "2. Qual a sena mais provável? Tome como base as seis dezenas mais frequentes nos sorteios anteriores\n",
    "3. Qual a dezena média?  \n",
    "   3.1 O resultado é compatível com a Lei dos Grandes Números?"
   ]
  },
  {
   "cell_type": "code",
   "execution_count": null,
   "metadata": {},
   "outputs": [],
   "source": []
  },
  {
   "cell_type": "code",
   "execution_count": null,
   "metadata": {},
   "outputs": [],
   "source": []
  },
  {
   "cell_type": "code",
   "execution_count": null,
   "metadata": {},
   "outputs": [],
   "source": []
  },
  {
   "cell_type": "markdown",
   "metadata": {},
   "source": [
    "### Passo 4 - Brincando com a curiosidade\n",
    "\n",
    "1. Já houve algum sorteio exatamente igual a outro? Isto é, com as mesmas dezenas na mesma ordem?\n",
    "2. Já houve dois sorteios iguais no tocante às dezenas sorteadas?"
   ]
  },
  {
   "cell_type": "code",
   "execution_count": null,
   "metadata": {},
   "outputs": [],
   "source": []
  },
  {
   "cell_type": "code",
   "execution_count": null,
   "metadata": {},
   "outputs": [],
   "source": []
  },
  {
   "cell_type": "code",
   "execution_count": null,
   "metadata": {},
   "outputs": [],
   "source": []
  },
  {
   "cell_type": "markdown",
   "metadata": {},
   "source": [
    "### Passo 5 - Plotando um gráfico!\n",
    "\n",
    "1. Construa um gráfico do tipo histograma que ilustre o número de vezes que cada dezena foi\n",
    "sorteada"
   ]
  },
  {
   "cell_type": "code",
   "execution_count": null,
   "metadata": {},
   "outputs": [],
   "source": []
  },
  {
   "cell_type": "code",
   "execution_count": null,
   "metadata": {},
   "outputs": [],
   "source": []
  }
 ],
 "metadata": {
  "kernelspec": {
   "display_name": "Python 3",
   "language": "python",
   "name": "python3"
  },
  "language_info": {
   "codemirror_mode": {
    "name": "ipython",
    "version": 3
   },
   "file_extension": ".py",
   "mimetype": "text/x-python",
   "name": "python",
   "nbconvert_exporter": "python",
   "pygments_lexer": "ipython3",
   "version": "3.8.3"
  }
 },
 "nbformat": 4,
 "nbformat_minor": 4
}
