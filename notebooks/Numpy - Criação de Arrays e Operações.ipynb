{
 "cells": [
  {
   "cell_type": "markdown",
   "metadata": {},
   "source": [
    "# Numpy - Criação de Arrays e Operações\n",
    "\n",
    "**Disciplina**: Programação para Ciência dos Dados  \n",
    "**Docentes**: Elloá B. Guedes e Tiago E. de Melo  \n",
    "**Contato:** ebgcosta@uea.edu.br, tmelo@uea.edu.br  \n",
    "**Github:** http://github.com/elloa/numpy\n",
    "\n",
    "## Apresentação\n",
    "\n",
    "Este notebook deverá ser utilizado para a prática dos conceitos relativos à biblioteca numpy."
   ]
  },
  {
   "cell_type": "code",
   "execution_count": 9,
   "metadata": {},
   "outputs": [],
   "source": [
    "import numpy as np"
   ]
  },
  {
   "cell_type": "markdown",
   "metadata": {},
   "source": [
    "## Parte 1.1: Criação de ndarrays\n",
    "\n",
    "1. Crie um ndarray a partir de uma lista de inteiros de 1 a 100\n",
    "2. Obtenha o tipo do objeto e o tipo de dados nele contidos\n",
    "3. Qual a dimensão deste array?\n",
    "4. Obtenha o rank deste array.\n",
    "4. Crie um novo array de dimensão (100,1) a partir da lista inicial\n",
    "5. Crie um ndarray de rank igual a 3 e dimensões 2x2x2"
   ]
  },
  {
   "cell_type": "code",
   "execution_count": 2,
   "metadata": {},
   "outputs": [
    {
     "output_type": "execute_result",
     "data": {
      "text/plain": "array([1, 2, 3, 4])"
     },
     "metadata": {},
     "execution_count": 2
    }
   ],
   "source": [
    "a = np.array([1,2,3,4])\n",
    "a"
   ]
  },
  {
   "cell_type": "code",
   "execution_count": 5,
   "metadata": {},
   "outputs": [
    {
     "output_type": "execute_result",
     "data": {
      "text/plain": "array([  1,   2,   3,   4,   5,   6,   7,   8,   9,  10,  11,  12,  13,\n        14,  15,  16,  17,  18,  19,  20,  21,  22,  23,  24,  25,  26,\n        27,  28,  29,  30,  31,  32,  33,  34,  35,  36,  37,  38,  39,\n        40,  41,  42,  43,  44,  45,  46,  47,  48,  49,  50,  51,  52,\n        53,  54,  55,  56,  57,  58,  59,  60,  61,  62,  63,  64,  65,\n        66,  67,  68,  69,  70,  71,  72,  73,  74,  75,  76,  77,  78,\n        79,  80,  81,  82,  83,  84,  85,  86,  87,  88,  89,  90,  91,\n        92,  93,  94,  95,  96,  97,  98,  99, 100])"
     },
     "metadata": {},
     "execution_count": 5
    }
   ],
   "source": [
    "a1 = np.array([x for x in range(1,101)])\n",
    "a1"
   ]
  },
  {
   "cell_type": "code",
   "execution_count": 10,
   "metadata": {},
   "outputs": [
    {
     "output_type": "execute_result",
     "data": {
      "text/plain": "numpy.ndarray"
     },
     "metadata": {},
     "execution_count": 10
    }
   ],
   "source": [
    "type(a1)"
   ]
  },
  {
   "cell_type": "code",
   "execution_count": 14,
   "metadata": {},
   "outputs": [
    {
     "output_type": "execute_result",
     "data": {
      "text/plain": "(4,)"
     },
     "metadata": {},
     "execution_count": 14
    }
   ],
   "source": [
    "a.shape"
   ]
  },
  {
   "cell_type": "code",
   "execution_count": 15,
   "metadata": {},
   "outputs": [
    {
     "output_type": "execute_result",
     "data": {
      "text/plain": "dtype(&#39;int32&#39;)"
     },
     "metadata": {},
     "execution_count": 15
    }
   ],
   "source": [
    "a.dtype"
   ]
  },
  {
   "cell_type": "code",
   "execution_count": 17,
   "metadata": {},
   "outputs": [
    {
     "output_type": "execute_result",
     "data": {
      "text/plain": "array([[  1],\n       [  2],\n       [  3],\n       [  4],\n       [  5],\n       [  6],\n       [  7],\n       [  8],\n       [  9],\n       [ 10],\n       [ 11],\n       [ 12],\n       [ 13],\n       [ 14],\n       [ 15],\n       [ 16],\n       [ 17],\n       [ 18],\n       [ 19],\n       [ 20],\n       [ 21],\n       [ 22],\n       [ 23],\n       [ 24],\n       [ 25],\n       [ 26],\n       [ 27],\n       [ 28],\n       [ 29],\n       [ 30],\n       [ 31],\n       [ 32],\n       [ 33],\n       [ 34],\n       [ 35],\n       [ 36],\n       [ 37],\n       [ 38],\n       [ 39],\n       [ 40],\n       [ 41],\n       [ 42],\n       [ 43],\n       [ 44],\n       [ 45],\n       [ 46],\n       [ 47],\n       [ 48],\n       [ 49],\n       [ 50],\n       [ 51],\n       [ 52],\n       [ 53],\n       [ 54],\n       [ 55],\n       [ 56],\n       [ 57],\n       [ 58],\n       [ 59],\n       [ 60],\n       [ 61],\n       [ 62],\n       [ 63],\n       [ 64],\n       [ 65],\n       [ 66],\n       [ 67],\n       [ 68],\n       [ 69],\n       [ 70],\n       [ 71],\n       [ 72],\n       [ 73],\n       [ 74],\n       [ 75],\n       [ 76],\n       [ 77],\n       [ 78],\n       [ 79],\n       [ 80],\n       [ 81],\n       [ 82],\n       [ 83],\n       [ 84],\n       [ 85],\n       [ 86],\n       [ 87],\n       [ 88],\n       [ 89],\n       [ 90],\n       [ 91],\n       [ 92],\n       [ 93],\n       [ 94],\n       [ 95],\n       [ 96],\n       [ 97],\n       [ 98],\n       [ 99],\n       [100]])"
     },
     "metadata": {},
     "execution_count": 17
    }
   ],
   "source": [
    "b = np.array([[x] for x in range(1, 101)])\n",
    "b"
   ]
  },
  {
   "cell_type": "code",
   "execution_count": 22,
   "metadata": {},
   "outputs": [
    {
     "output_type": "execute_result",
     "data": {
      "text/plain": "dtype(&#39;int32&#39;)"
     },
     "metadata": {},
     "execution_count": 22
    }
   ],
   "source": [
    "b.dtype"
   ]
  },
  {
   "cell_type": "code",
   "execution_count": 21,
   "metadata": {},
   "outputs": [
    {
     "output_type": "execute_result",
     "data": {
      "text/plain": "array([[  1],\n       [  2],\n       [  3],\n       [  4],\n       [  5],\n       [  6],\n       [  7],\n       [  8],\n       [  9],\n       [ 10],\n       [ 11],\n       [ 12],\n       [ 13],\n       [ 14],\n       [ 15],\n       [ 16],\n       [ 17],\n       [ 18],\n       [ 19],\n       [ 20],\n       [ 21],\n       [ 22],\n       [ 23],\n       [ 24],\n       [ 25],\n       [ 26],\n       [ 27],\n       [ 28],\n       [ 29],\n       [ 30],\n       [ 31],\n       [ 32],\n       [ 33],\n       [ 34],\n       [ 35],\n       [ 36],\n       [ 37],\n       [ 38],\n       [ 39],\n       [ 40],\n       [ 41],\n       [ 42],\n       [ 43],\n       [ 44],\n       [ 45],\n       [ 46],\n       [ 47],\n       [ 48],\n       [ 49],\n       [ 50],\n       [ 51],\n       [ 52],\n       [ 53],\n       [ 54],\n       [ 55],\n       [ 56],\n       [ 57],\n       [ 58],\n       [ 59],\n       [ 60],\n       [ 61],\n       [ 62],\n       [ 63],\n       [ 64],\n       [ 65],\n       [ 66],\n       [ 67],\n       [ 68],\n       [ 69],\n       [ 70],\n       [ 71],\n       [ 72],\n       [ 73],\n       [ 74],\n       [ 75],\n       [ 76],\n       [ 77],\n       [ 78],\n       [ 79],\n       [ 80],\n       [ 81],\n       [ 82],\n       [ 83],\n       [ 84],\n       [ 85],\n       [ 86],\n       [ 87],\n       [ 88],\n       [ 89],\n       [ 90],\n       [ 91],\n       [ 92],\n       [ 93],\n       [ 94],\n       [ 95],\n       [ 96],\n       [ 97],\n       [ 98],\n       [ 99],\n       [100]], dtype=int64)"
     },
     "metadata": {},
     "execution_count": 21
    }
   ],
   "source": [
    "b.astype(\"int64\")"
   ]
  },
  {
   "cell_type": "code",
   "execution_count": 19,
   "metadata": {},
   "outputs": [
    {
     "output_type": "execute_result",
     "data": {
      "text/plain": "(100, 1)"
     },
     "metadata": {},
     "execution_count": 19
    }
   ],
   "source": [
    "b.shape"
   ]
  },
  {
   "cell_type": "code",
   "execution_count": 20,
   "metadata": {},
   "outputs": [
    {
     "output_type": "execute_result",
     "data": {
      "text/plain": "2"
     },
     "metadata": {},
     "execution_count": 20
    }
   ],
   "source": [
    "b.ndim"
   ]
  },
  {
   "cell_type": "code",
   "execution_count": 24,
   "metadata": {
    "tags": []
   },
   "outputs": [
    {
     "output_type": "stream",
     "name": "stdout",
     "text": "Wall time: 0 ns\n"
    }
   ],
   "source": [
    "%time c = np.array([[[1,0]]])"
   ]
  },
  {
   "cell_type": "code",
   "execution_count": null,
   "metadata": {},
   "outputs": [],
   "source": []
  },
  {
   "cell_type": "markdown",
   "metadata": {},
   "source": [
    "É possível criar um ndarray a partir da lista a seguir?\n",
    "\n",
    "$$lista = [[1,2],[3,4,5],[6,7,8,9]]$$"
   ]
  },
  {
   "cell_type": "code",
   "execution_count": null,
   "metadata": {},
   "outputs": [],
   "source": []
  },
  {
   "cell_type": "markdown",
   "metadata": {},
   "source": [
    "Qual o tipo de dados contidos no array criado a partir da lista a seguir?\n",
    "\n",
    "$$[-1, 1, 2.0, 3.15]$$"
   ]
  },
  {
   "cell_type": "code",
   "execution_count": null,
   "metadata": {},
   "outputs": [],
   "source": []
  },
  {
   "cell_type": "markdown",
   "metadata": {},
   "source": [
    "## Parte 1.2: Coerção de tipos em ndarrays\n",
    "\n",
    "\n",
    "0. Cuidado!\n",
    "1. **Primeira forma**: passar o dtype como parâmetro  \n",
    "```python\n",
    "np.array([1,2,3],dtype = \"complex\")\n",
    "```\n",
    "2. **Segunda forma**: coerção de tipos\n",
    "```python\n",
    "a = np.array([1,2,3])\n",
    "a = a.astype(\"float\")\n",
    "```\n",
    "3. Os tipos de dados disponíveis na biblioteca numpy são listados em:  \n",
    "https://numpy.org/devdocs/user/basics.types.html\n"
   ]
  },
  {
   "cell_type": "code",
   "execution_count": null,
   "metadata": {},
   "outputs": [],
   "source": []
  },
  {
   "cell_type": "code",
   "execution_count": null,
   "metadata": {},
   "outputs": [],
   "source": []
  },
  {
   "cell_type": "markdown",
   "metadata": {},
   "source": [
    "Quais as implicações da coerção de tipo a seguir? Execute e observe.\n",
    "\n",
    "```python\n",
    "x = np.array([1.3 + 3j,2 -4j],dtype = \"complex_\")\n",
    "x = x.astype(\"int\")\n",
    "```"
   ]
  },
  {
   "cell_type": "code",
   "execution_count": null,
   "metadata": {},
   "outputs": [],
   "source": []
  },
  {
   "cell_type": "markdown",
   "metadata": {},
   "source": [
    "## Parte 1.3: Criação intrínseca de arrays\n",
    "\n",
    "1. A partir de np.zeros: Crie uma matriz identidade 3x3 de números inteiros\n",
    "2. A partir de um array unidimensional de np.ones: Crie um array 2x10 preenchido apenas com $\\pi$\n",
    "3. Qual a consequência da execução do código a seguir?\n",
    "```python\n",
    "np.random.random((2,2)).reshape(3,3)\n",
    "```\n",
    "4. Criar um array unidimensional a partir de uma variável aleatória com distribuição normal de média zero e desvio padrão igual a 1.0  \n",
    "  - https://numpy.org/doc/stable/reference/random/generated/numpy.random.normal.html\n",
    "  - Que tal plotar um histograma destes dados?\n",
    "5. Criar amostras no intervalo de [1,100] intervaladas de 0.1  \n",
    "   5.1 Com uma lista  \n",
    "   5.2 Com np.arange  \n",
    "6. Crie um linspace no intervalo $[-2\\pi,2\\pi]$ com mil amostras  \n",
    "   6.1 Obtenha o seno e o coseno destes valores  \n",
    "   6.2 Plote o gráfico destas funções  "
   ]
  },
  {
   "cell_type": "code",
   "execution_count": null,
   "metadata": {},
   "outputs": [],
   "source": []
  },
  {
   "cell_type": "code",
   "execution_count": null,
   "metadata": {},
   "outputs": [],
   "source": []
  },
  {
   "cell_type": "code",
   "execution_count": null,
   "metadata": {},
   "outputs": [],
   "source": []
  },
  {
   "cell_type": "code",
   "execution_count": null,
   "metadata": {},
   "outputs": [],
   "source": []
  },
  {
   "cell_type": "code",
   "execution_count": null,
   "metadata": {},
   "outputs": [],
   "source": []
  },
  {
   "cell_type": "code",
   "execution_count": null,
   "metadata": {},
   "outputs": [],
   "source": []
  },
  {
   "cell_type": "code",
   "execution_count": null,
   "metadata": {},
   "outputs": [],
   "source": []
  },
  {
   "cell_type": "code",
   "execution_count": null,
   "metadata": {},
   "outputs": [],
   "source": []
  },
  {
   "cell_type": "markdown",
   "metadata": {},
   "source": [
    "## Parte 2.1 - Operações elemento-a-elemento\n",
    "\n",
    "1. Crie um array bidimensional (2,5) de uns\n",
    "2. Crie um array mesmo formato que o anterior, mas gerado aleatoriamente de maneira uniforme\n",
    "3. Some os dois arrays e armazene o resultado em uma variável\n",
    "2. Eleve os elementos do array anterior ao quadrado e, em seguida, subtraia 1"
   ]
  },
  {
   "cell_type": "code",
   "execution_count": 28,
   "metadata": {
    "tags": []
   },
   "outputs": [
    {
     "output_type": "stream",
     "name": "stdout",
     "text": "Wall time: 0 ns\n"
    },
    {
     "output_type": "execute_result",
     "data": {
      "text/plain": "array([[1., 1., 1., 1., 1.],\n       [1., 1., 1., 1., 1.]])"
     },
     "metadata": {},
     "execution_count": 28
    }
   ],
   "source": [
    "%time a = np.ones((2,5))\n",
    "a"
   ]
  },
  {
   "cell_type": "code",
   "execution_count": 32,
   "metadata": {},
   "outputs": [
    {
     "output_type": "execute_result",
     "data": {
      "text/plain": "array([[0.6987559 , 0.15745457, 0.2576695 , 0.31336597, 0.27518626],\n       [0.81583556, 0.54479772, 0.27903866, 0.01883434, 0.23001149]])"
     },
     "metadata": {},
     "execution_count": 32
    }
   ],
   "source": [
    "b = np.random.random((2,5))\n",
    "b"
   ]
  },
  {
   "cell_type": "code",
   "execution_count": 33,
   "metadata": {
    "tags": []
   },
   "outputs": [
    {
     "output_type": "stream",
     "name": "stdout",
     "text": "Wall time: 0 ns\n"
    },
    {
     "output_type": "execute_result",
     "data": {
      "text/plain": "array([[1.6987559 , 1.15745457, 1.2576695 , 1.31336597, 1.27518626],\n       [1.81583556, 1.54479772, 1.27903866, 1.01883434, 1.23001149]])"
     },
     "metadata": {},
     "execution_count": 33
    }
   ],
   "source": [
    "%time a + b"
   ]
  },
  {
   "cell_type": "code",
   "execution_count": null,
   "metadata": {},
   "outputs": [],
   "source": []
  },
  {
   "cell_type": "markdown",
   "metadata": {},
   "source": [
    "## Parte 2.2 - Multiplicando arrays\n",
    "\n",
    "1. Obtenha 2 arrays aleatoriamente gerados de dimensão 2x2\n",
    "2. Multiplique as matrizes com o operador * e justifique o resultado\n",
    "3. Multiplique as matrizes com o produto dot\n",
    "4. Verifique se as operações a seguir são possíveis. O que as impede de ser realizada?\n",
    "```python\n",
    "a = np.ones((1,5))\n",
    "b = np.random.random((3,2))\n",
    "a*b\n",
    "a.dot(b)\n",
    "```\n"
   ]
  },
  {
   "cell_type": "code",
   "execution_count": null,
   "metadata": {},
   "outputs": [],
   "source": []
  },
  {
   "cell_type": "code",
   "execution_count": null,
   "metadata": {},
   "outputs": [],
   "source": []
  },
  {
   "cell_type": "code",
   "execution_count": null,
   "metadata": {},
   "outputs": [],
   "source": []
  },
  {
   "cell_type": "markdown",
   "metadata": {},
   "source": [
    "## Parte 2.3 -- Funções Universais (ufunc)\n",
    "\n",
    "1. Crie um linspace no intervalo $[-1,+1]$ com cem amostras  \n",
    "2. Obtenha e plote a função tangente neste intervalo (não use np.tan!)\n",
    "3. A função sigmóide é muito importante no contexto das redes neurais:\n",
    "\n",
    "$$f(x) = \\frac{1}{1 + e^{-\\beta \\cdot x}}$$\n",
    "\n",
    "\n",
    "   3.1 Crie um linspace no intervalo $[-2,+2]$ com 200 amostras  \n",
    "   3.2 Construa uma função em Python que implemente a equação anterior. Utilize um parâmetro nomeado $\\beta = 1$  \n",
    "   3.3 Aplique-a no linspace previamente definido e plote o resultado obtido  \n",
    "   3.4 Incremente o gráfico anterior com $\\beta = 0.8$ e $\\beta = 1.2$, para comparar a curva gerada  \n",
    "   3.5 Capriche no gráfico e inclua legendas!"
   ]
  },
  {
   "cell_type": "code",
   "execution_count": null,
   "metadata": {},
   "outputs": [],
   "source": []
  },
  {
   "cell_type": "code",
   "execution_count": null,
   "metadata": {},
   "outputs": [],
   "source": []
  },
  {
   "cell_type": "markdown",
   "metadata": {},
   "source": [
    "## Parte 2.4 -- Funções agregadas\n",
    "\n",
    "1. Crie um array de 1500 números *inteiros* aleatórios no intervalo $[0,100)$ com distribuição uniforme\n",
    "2. Calcule a média e o desvio padrão\n",
    "3. Suponha que o seu array esteja armazenado na variável a. Execute o código a seguir:\n",
    "\n",
    "```python\n",
    "unique, counts = numpy.unique(a, return_counts=True)\n",
    "d = dict(zip(unique, counts))\n",
    "print(d)\n",
    "```\n",
    "4. Obtenha o valor que mais se repete no vetor inicial"
   ]
  },
  {
   "cell_type": "code",
   "execution_count": null,
   "metadata": {},
   "outputs": [],
   "source": []
  },
  {
   "cell_type": "code",
   "execution_count": null,
   "metadata": {},
   "outputs": [],
   "source": []
  }
 ],
 "metadata": {
  "kernelspec": {
   "display_name": "Python 3",
   "language": "python",
   "name": "python3"
  },
  "language_info": {
   "codemirror_mode": {
    "name": "ipython",
    "version": 3
   },
   "file_extension": ".py",
   "mimetype": "text/x-python",
   "name": "python",
   "nbconvert_exporter": "python",
   "pygments_lexer": "ipython3",
   "version": "3.8.3-final"
  }
 },
 "nbformat": 4,
 "nbformat_minor": 4
}